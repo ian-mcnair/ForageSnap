{
  "nbformat": 4,
  "nbformat_minor": 0,
  "metadata": {
    "colab": {
      "name": "TFLite model with Keras and FastAI",
      "version": "0.3.2",
      "provenance": [],
      "private_outputs": true,
      "collapsed_sections": [],
      "include_colab_link": true
    },
    "kernelspec": {
      "name": "python3",
      "display_name": "Python 3"
    },
    "accelerator": "GPU"
  },
  "cells": [
    {
      "cell_type": "markdown",
      "metadata": {
        "id": "view-in-github",
        "colab_type": "text"
      },
      "source": [
        "<a href=\"https://colab.research.google.com/github/ian-mcnair/ForageSnap/blob/master/TFLite_model_with_Keras_and_FastAI.ipynb\" target=\"_parent\"><img src=\"https://colab.research.google.com/assets/colab-badge.svg\" alt=\"Open In Colab\"/></a>"
      ]
    },
    {
      "cell_type": "markdown",
      "metadata": {
        "colab_type": "text",
        "id": "hRTa3Ee15WsJ"
      },
      "source": [
        "# Creating a TFLite model with Keras"
      ]
    },
    {
      "cell_type": "code",
      "metadata": {
        "colab_type": "code",
        "id": "vmPloJclRH3X",
        "colab": {}
      },
      "source": [
        "from __future__ import absolute_import, division, print_function, unicode_literals\n",
        "\n",
        "!pip install tf-nightly-gpu-2.0-preview\n",
        "import tensorflow as tf\n",
        "\n",
        "import os\n",
        "import numpy as np\n",
        "import matplotlib.pyplot as plt"
      ],
      "execution_count": 0,
      "outputs": []
    },
    {
      "cell_type": "code",
      "metadata": {
        "colab_type": "code",
        "id": "RGdq0Wo8RHb4",
        "colab": {}
      },
      "source": [
        "tf.__version__"
      ],
      "execution_count": 0,
      "outputs": []
    },
    {
      "cell_type": "code",
      "metadata": {
        "id": "stfZy2oBZHCv",
        "colab_type": "code",
        "colab": {}
      },
      "source": [
        "from google.colab import drive\n",
        "drive.mount('/content/drive')"
      ],
      "execution_count": 0,
      "outputs": []
    },
    {
      "cell_type": "markdown",
      "metadata": {
        "id": "4YUhhFGsTSXs",
        "colab_type": "text"
      },
      "source": [
        "## Load in Data with FastAI Process"
      ]
    },
    {
      "cell_type": "code",
      "metadata": {
        "id": "BI5YzpNDTkUm",
        "colab_type": "code",
        "colab": {}
      },
      "source": [
        "from fastai.vision import *"
      ],
      "execution_count": 0,
      "outputs": []
    },
    {
      "cell_type": "code",
      "metadata": {
        "id": "7xV2BVeTTVG-",
        "colab_type": "code",
        "colab": {}
      },
      "source": [
        "classes = ['Rosemary',\n",
        "           'Beauty Berry', \n",
        "           'Persimmon', \n",
        "           'Goldenrod', \n",
        "           'Poison Oak', \n",
        "           'Poison Ivy', \n",
        "           'Laurel']\n",
        "# harmless_classes = ['Beauty Berry', 'Persimmon', 'Goldenrod']\n",
        "# harmful_classes = ['Poison Oak', 'Poison Ivy', 'Laurel']"
      ],
      "execution_count": 0,
      "outputs": []
    },
    {
      "cell_type": "markdown",
      "metadata": {
        "id": "YUAatIQYZdPX",
        "colab_type": "text"
      },
      "source": [
        "### Harmless Classes"
      ]
    },
    {
      "cell_type": "code",
      "metadata": {
        "id": "2AZk0rLY7SzM",
        "colab_type": "code",
        "colab": {}
      },
      "source": [
        "folder = 'Rosemary' # Name of Classes below\n",
        "file = '/content/drive/My Drive/Project FORSCAN/Datasets/iNaturalist Data Urls/Harmless/rosemary_urls.csv'\n",
        "\n",
        "path = Path('/content/plants')\n",
        "dest = path/folder\n",
        "dest.mkdir(parents = True, exist_ok = True)\n",
        "\n",
        "download_images(path/file, \n",
        "                dest, \n",
        "                max_pics = 500, \n",
        "                max_workers= 0)"
      ],
      "execution_count": 0,
      "outputs": []
    },
    {
      "cell_type": "code",
      "metadata": {
        "id": "wZVJAhctTaIM",
        "colab_type": "code",
        "colab": {}
      },
      "source": [
        "folder = 'Beauty Berry' # Name of Classes below\n",
        "file = '/content/drive/My Drive/Project FORSCAN/Datasets/iNaturalist Data Urls/Harmless/american_beautyberry_urls.csv'\n",
        "\n",
        "path = Path('/content/plants')\n",
        "dest = path/folder\n",
        "dest.mkdir(parents = True, exist_ok = True)\n",
        "\n",
        "download_images(path/file, \n",
        "                dest, \n",
        "                max_pics = 500, \n",
        "                max_workers= 0)"
      ],
      "execution_count": 0,
      "outputs": []
    },
    {
      "cell_type": "code",
      "metadata": {
        "id": "RAGiwuFFZwjC",
        "colab_type": "code",
        "colab": {}
      },
      "source": [
        "folder = 'Persimmon' # Name of Classes below\n",
        "file = '/content/drive/My Drive/Project FORSCAN/Datasets/iNaturalist Data Urls/Harmless/american_persimmon_urls.csv'\n",
        "\n",
        "path = Path('/content/plants')\n",
        "dest = path/folder\n",
        "dest.mkdir(parents = True, exist_ok = True)\n",
        "\n",
        "download_images(path/file, \n",
        "                dest, \n",
        "                max_pics = 500, \n",
        "                max_workers= 0)"
      ],
      "execution_count": 0,
      "outputs": []
    },
    {
      "cell_type": "code",
      "metadata": {
        "id": "XLuWZYCMZwtp",
        "colab_type": "code",
        "colab": {}
      },
      "source": [
        "folder = 'Goldenrod' # Name of Classes below\n",
        "file = '/content/drive/My Drive/Project FORSCAN/Datasets/iNaturalist Data Urls/Harmless/goldenrods_urls.csv'\n",
        "\n",
        "path = Path('/content/plants')\n",
        "dest = path/folder\n",
        "dest.mkdir(parents = True, exist_ok = True)\n",
        "\n",
        "download_images(path/file, \n",
        "                dest, \n",
        "                max_pics = 300, \n",
        "                max_workers= 0)"
      ],
      "execution_count": 0,
      "outputs": []
    },
    {
      "cell_type": "markdown",
      "metadata": {
        "id": "joh_LzMjaCgc",
        "colab_type": "text"
      },
      "source": [
        "### Harmful Classes"
      ]
    },
    {
      "cell_type": "code",
      "metadata": {
        "id": "AGefOJO4ZxOu",
        "colab_type": "code",
        "colab": {}
      },
      "source": [
        "folder = 'Poison Oak' # Name of classes below\n",
        "file = '/content/drive/My Drive/Project FORSCAN/Datasets/iNaturalist Data Urls/Poisonous/atl_poison_oak.csv'\n",
        "\n",
        "path = Path('/content/plants')\n",
        "dest = path/folder\n",
        "dest.mkdir(parents = True, exist_ok = True)\n",
        "\n",
        "download_images(path/file, \n",
        "                dest, \n",
        "                max_pics = 700, \n",
        "                max_workers= 0)"
      ],
      "execution_count": 0,
      "outputs": []
    },
    {
      "cell_type": "code",
      "metadata": {
        "id": "eYpnUmkkTcbZ",
        "colab_type": "code",
        "colab": {}
      },
      "source": [
        "folder = 'Poison Ivy' # Name of classes below\n",
        "file = '/content/drive/My Drive/Project FORSCAN/Datasets/iNaturalist Data Urls/Poisonous/poison_ivy_urls.csv'\n",
        "\n",
        "path = Path('/content/plants')\n",
        "dest = path/folder\n",
        "dest.mkdir(parents = True, exist_ok = True)\n",
        "\n",
        "download_images(path/file, \n",
        "                dest, \n",
        "                max_pics = 700, \n",
        "                max_workers= 0)"
      ],
      "execution_count": 0,
      "outputs": []
    },
    {
      "cell_type": "code",
      "metadata": {
        "id": "7wue_s_SaXcV",
        "colab_type": "code",
        "colab": {}
      },
      "source": [
        "folder = 'Laurel' # Name of classes below\n",
        "file = '/content/drive/My Drive/Project FORSCAN/Datasets/iNaturalist Data Urls/Poisonous/laurel_fam_urls.csv'\n",
        "\n",
        "path = Path('/content/plants')\n",
        "dest = path/folder\n",
        "dest.mkdir(parents = True, exist_ok = True)\n",
        "\n",
        "download_images(path/file, \n",
        "                dest, \n",
        "                max_pics = 300, \n",
        "                max_workers= 0)"
      ],
      "execution_count": 0,
      "outputs": []
    },
    {
      "cell_type": "markdown",
      "metadata": {
        "id": "MtJc1mzfapuc",
        "colab_type": "text"
      },
      "source": [
        "## Making Sure File Paths and Images are Good"
      ]
    },
    {
      "cell_type": "code",
      "metadata": {
        "id": "xcSc9e7wcJPA",
        "colab_type": "code",
        "colab": {}
      },
      "source": [
        "path = Path('/content/plants/')"
      ],
      "execution_count": 0,
      "outputs": []
    },
    {
      "cell_type": "code",
      "metadata": {
        "id": "8Pfr6j8jas1y",
        "colab_type": "code",
        "colab": {}
      },
      "source": [
        "path.ls() # This documents the path. You should see harmless and poisonous"
      ],
      "execution_count": 0,
      "outputs": []
    },
    {
      "cell_type": "code",
      "metadata": {
        "id": "WlFGYbXCawNg",
        "colab_type": "code",
        "colab": {}
      },
      "source": [
        "path = Path('/content/plants/')\n",
        "for c in classes:\n",
        "  print(path/c)\n",
        "  verify_images(path/c, \n",
        "                delete = True, \n",
        "                max_size = 500)\n",
        "  \n",
        "# path = Path('/content/plants/harmful')\n",
        "# for c in harmful_classes:\n",
        "#   print(path/c)\n",
        "#   verify_images(path/c, \n",
        "#                 delete = True, \n",
        "#                 max_size = 500)"
      ],
      "execution_count": 0,
      "outputs": []
    },
    {
      "cell_type": "markdown",
      "metadata": {
        "colab_type": "text",
        "id": "v77rlkCKW0IJ"
      },
      "source": [
        "## Setup Input Pipeline"
      ]
    },
    {
      "cell_type": "markdown",
      "metadata": {
        "colab_type": "text",
        "id": "j4QOy2uA3P_p"
      },
      "source": [
        "Download the flowers dataset."
      ]
    },
    {
      "cell_type": "code",
      "metadata": {
        "colab_type": "code",
        "id": "xxL2mjVVGIrV",
        "colab": {}
      },
      "source": [
        "base_dir = os.path.join('/content/', 'plants/')"
      ],
      "execution_count": 0,
      "outputs": []
    },
    {
      "cell_type": "code",
      "metadata": {
        "id": "6WC2mJGwLiq1",
        "colab_type": "code",
        "colab": {}
      },
      "source": [
        "base_dir"
      ],
      "execution_count": 0,
      "outputs": []
    },
    {
      "cell_type": "markdown",
      "metadata": {
        "colab_type": "text",
        "id": "z4gTv7ig2vMh"
      },
      "source": [
        "Use `ImageDataGenerator` to rescale the images.\n",
        "\n",
        "Create the train generator and specify where the train dataset directory, image size, batch size.\n",
        "\n",
        "Create the validation generator with similar approach as the train generator with the flow_from_directory() method."
      ]
    },
    {
      "cell_type": "code",
      "metadata": {
        "colab_type": "code",
        "id": "aCLb_yV5JfF3",
        "colab": {}
      },
      "source": [
        "IMAGE_SIZE = 224\n",
        "BATCH_SIZE = 64\n",
        "\n",
        "datagen = tf.keras.preprocessing.image.ImageDataGenerator(\n",
        "    rescale=1./255, \n",
        "    validation_split=0.2)\n",
        "\n",
        "train_generator = datagen.flow_from_directory(\n",
        "    base_dir,\n",
        "    target_size=(IMAGE_SIZE, IMAGE_SIZE),\n",
        "    batch_size=BATCH_SIZE, \n",
        "    subset='training')\n",
        "\n",
        "val_generator = datagen.flow_from_directory(\n",
        "    base_dir,\n",
        "    target_size=(IMAGE_SIZE, IMAGE_SIZE),\n",
        "    batch_size=BATCH_SIZE, \n",
        "    subset='validation')"
      ],
      "execution_count": 0,
      "outputs": []
    },
    {
      "cell_type": "code",
      "metadata": {
        "colab_type": "code",
        "id": "tx1L7fxxWA_G",
        "colab": {}
      },
      "source": [
        "for image_batch, label_batch in train_generator:\n",
        "  break\n",
        "image_batch.shape, label_batch.shape"
      ],
      "execution_count": 0,
      "outputs": []
    },
    {
      "cell_type": "markdown",
      "metadata": {
        "colab_type": "text",
        "id": "ZrFFcwUb3iK9"
      },
      "source": [
        "Save the labels in a file which will be downloaded later."
      ]
    },
    {
      "cell_type": "code",
      "metadata": {
        "colab_type": "code",
        "id": "-QFZIhWs4dsq",
        "colab": {}
      },
      "source": [
        "print (train_generator.class_indices)\n",
        "\n",
        "labels = '\\n'.join(sorted(train_generator.class_indices.keys()))\n",
        "\n",
        "with open('labels.txt', 'w') as f:\n",
        "  f.write(labels)"
      ],
      "execution_count": 0,
      "outputs": []
    },
    {
      "cell_type": "code",
      "metadata": {
        "colab_type": "code",
        "id": "duxD_UDSOmng",
        "colab": {}
      },
      "source": [
        "!cat labels.txt"
      ],
      "execution_count": 0,
      "outputs": []
    },
    {
      "cell_type": "markdown",
      "metadata": {
        "colab_type": "text",
        "id": "OkH-kazQecHB"
      },
      "source": [
        "## Create the base model from the pre-trained convnets\n",
        "\n",
        "Create the base model from the **MobileNet V2** model developed at Google, and pre-trained on the ImageNet dataset, a large dataset of 1.4M images and 1000 classes of web images.\n",
        "\n",
        "First, pick which intermediate layer of MobileNet V2 will be used for feature extraction. A common practice is to use the output of the very last layer before the flatten operation, the so-called \"bottleneck layer\". The reasoning here is that the following fully-connected layers will be too specialized to the task the network was trained on, and thus the features learned by these layers won't be very useful for a new task. The bottleneck features, however, retain much generality.\n",
        "\n",
        "Let's instantiate an MobileNet V2 model pre-loaded with weights trained on ImageNet. By specifying the `include_top=False` argument, we load a network that doesn't include the classification layers at the top, which is ideal for feature extraction."
      ]
    },
    {
      "cell_type": "code",
      "metadata": {
        "colab_type": "code",
        "id": "19IQ2gqneqmS",
        "colab": {}
      },
      "source": [
        "IMG_SHAPE = (IMAGE_SIZE, IMAGE_SIZE, 3)\n",
        "\n",
        "# Create the base model from the pre-trained model MobileNet V2\n",
        "base_model = tf.keras.applications.MobileNetV2(input_shape=IMG_SHAPE,\n",
        "                                              include_top=False, \n",
        "                                              weights='imagenet')\n",
        "\n"
      ],
      "execution_count": 0,
      "outputs": []
    },
    {
      "cell_type": "markdown",
      "metadata": {
        "colab_type": "text",
        "id": "rlx56nQtfe8Y"
      },
      "source": [
        "## Feature extraction\n",
        "You will freeze the convolutional base created from the previous step and use that as a feature extractor, add a classifier on top of it and train the top-level classifier."
      ]
    },
    {
      "cell_type": "code",
      "metadata": {
        "colab_type": "code",
        "id": "Tts8BbAtRGvk",
        "colab": {}
      },
      "source": [
        "base_model.trainable = True"
      ],
      "execution_count": 0,
      "outputs": []
    },
    {
      "cell_type": "code",
      "metadata": {
        "id": "1BGt39RTX4WV",
        "colab_type": "code",
        "colab": {}
      },
      "source": [
        "# # Can honestly skip runnign this but it lets you choose \n",
        "# # where you want to start training the model at\n",
        "\n",
        "# #Let's take a look to see how many layers are in the base model\n",
        "# print(\"Number of layers in the base model: \", len(base_model.layers))\n",
        "\n",
        "# # Fine tune from this layer onwards\n",
        "# fine_tune_at = 100\n",
        "\n",
        "# # Freeze all the layers before the `fine_tune_at` layer\n",
        "# for layer in base_model.layers[:fine_tune_at]:\n",
        "#   layer.trainable =  False"
      ],
      "execution_count": 0,
      "outputs": []
    },
    {
      "cell_type": "markdown",
      "metadata": {
        "colab_type": "text",
        "id": "wdMRM8YModbk"
      },
      "source": [
        "### Add a classification head"
      ]
    },
    {
      "cell_type": "code",
      "metadata": {
        "colab_type": "code",
        "id": "eApvroIyn1K0",
        "colab": {}
      },
      "source": [
        "model = tf.keras.Sequential([\n",
        "  base_model,\n",
        "  tf.keras.layers.Conv2D(32, 3, activation='relu'),\n",
        "  tf.keras.layers.Dropout(0.2),\n",
        "  tf.keras.layers.GlobalAveragePooling2D(),\n",
        "  tf.keras.layers.Dense(7, activation='softmax') # The layer amount needs to match the classes\n",
        "])"
      ],
      "execution_count": 0,
      "outputs": []
    },
    {
      "cell_type": "markdown",
      "metadata": {
        "colab_type": "text",
        "id": "g0ylJXE_kRLi"
      },
      "source": [
        "### Compile the model\n",
        "\n",
        "You must compile the model before training it.  Since there are two classes, use a binary cross-entropy loss."
      ]
    },
    {
      "cell_type": "code",
      "metadata": {
        "colab_type": "code",
        "id": "RpR8HdyMhukJ",
        "colab": {}
      },
      "source": [
        "model.compile(optimizer=tf.keras.optimizers.Adam(2e-5), # 1e-5\n",
        "              loss='categorical_crossentropy', \n",
        "              metrics=['accuracy'])"
      ],
      "execution_count": 0,
      "outputs": []
    },
    {
      "cell_type": "code",
      "metadata": {
        "colab_type": "code",
        "id": "I8ARiyMFsgbH",
        "colab": {}
      },
      "source": [
        "model.summary()"
      ],
      "execution_count": 0,
      "outputs": []
    },
    {
      "cell_type": "code",
      "metadata": {
        "colab_type": "code",
        "id": "krvBumovycVA",
        "colab": {}
      },
      "source": [
        "print('Number of trainable variables = {}'.format(len(model.trainable_variables)))"
      ],
      "execution_count": 0,
      "outputs": []
    },
    {
      "cell_type": "markdown",
      "metadata": {
        "colab_type": "text",
        "id": "RxvgOYTDSWTx"
      },
      "source": [
        "### Train the model\n",
        "\n",
        "<!-- TODO(markdaoust): delete steps_per_epoch in TensorFlow r1.14/r2.0 -->"
      ]
    },
    {
      "cell_type": "code",
      "metadata": {
        "colab_type": "code",
        "id": "JsaRFlZ9B6WK",
        "colab": {}
      },
      "source": [
        "epochs = 32\n",
        "\n",
        "history = model.fit(train_generator, \n",
        "                    epochs=epochs, \n",
        "                    validation_data=val_generator)"
      ],
      "execution_count": 0,
      "outputs": []
    },
    {
      "cell_type": "markdown",
      "metadata": {
        "colab_type": "text",
        "id": "Hd94CKImf8vi"
      },
      "source": [
        "### Learning curves\n",
        "\n",
        "Let's take a look at the learning curves of the training and validation accuracy/loss when using the MobileNet V2 base model as a fixed feature extractor. "
      ]
    },
    {
      "cell_type": "code",
      "metadata": {
        "colab_type": "code",
        "id": "53OTCh3jnbwV",
        "colab": {}
      },
      "source": [
        "acc = history.history['accuracy']\n",
        "val_acc = history.history['val_accuracy']\n",
        "\n",
        "loss = history.history['loss']\n",
        "val_loss = history.history['val_loss']\n",
        "\n",
        "plt.figure(figsize=(8, 8))\n",
        "plt.subplot(2, 1, 1)\n",
        "plt.plot(acc, label='Training Accuracy')\n",
        "plt.plot(val_acc, label='Validation Accuracy')\n",
        "plt.legend(loc='lower right')\n",
        "plt.ylabel('Accuracy')\n",
        "# plt.ylim([min(plt.ylim()),1])\n",
        "plt.title('Training and Validation Accuracy')\n",
        "\n",
        "plt.subplot(2, 1, 2)\n",
        "plt.plot(loss, label='Training Loss')\n",
        "plt.plot(val_loss, label='Validation Loss')\n",
        "plt.legend(loc='upper right')\n",
        "plt.ylabel('Cross Entropy')\n",
        "# plt.ylim([0,1.0])\n",
        "plt.title('Training and Validation Loss')\n",
        "plt.xlabel('epoch')\n",
        "plt.show()"
      ],
      "execution_count": 0,
      "outputs": []
    },
    {
      "cell_type": "markdown",
      "metadata": {
        "colab_type": "text",
        "id": "kRDabW_u1wnv"
      },
      "source": [
        "## Convert to TFLite"
      ]
    },
    {
      "cell_type": "markdown",
      "metadata": {
        "colab_type": "text",
        "id": "hNvMl6CM6lG4"
      },
      "source": [
        "Saved the model using `tf.saved_model.save` and then convert the saved model to a tf lite compatible format."
      ]
    },
    {
      "cell_type": "code",
      "metadata": {
        "colab_type": "code",
        "id": "_LZiKVInWNGy",
        "colab": {}
      },
      "source": [
        "saved_model_dir = 'save/fine_tuning'\n",
        "tf.saved_model.save(model, saved_model_dir)\n",
        "\n",
        "converter = tf.lite.TFLiteConverter.from_saved_model(saved_model_dir)\n",
        "tflite_model = converter.convert()\n",
        "\n",
        "with open('model.tflite', 'wb') as f:\n",
        "  f.write(tflite_model)"
      ],
      "execution_count": 0,
      "outputs": []
    },
    {
      "cell_type": "markdown",
      "metadata": {
        "colab_type": "text",
        "id": "GE4w-9S410Dk"
      },
      "source": [
        "Download the converted model and labels"
      ]
    },
    {
      "cell_type": "code",
      "metadata": {
        "colab_type": "code",
        "id": "x47uW_lI1DoV",
        "colab": {}
      },
      "source": [
        "from google.colab import files\n",
        "\n",
        "files.download('model.tflite')\n",
        "files.download('labels.txt')"
      ],
      "execution_count": 0,
      "outputs": []
    },
    {
      "cell_type": "code",
      "metadata": {
        "id": "rKjxfjve_vZc",
        "colab_type": "code",
        "colab": {}
      },
      "source": [
        ""
      ],
      "execution_count": 0,
      "outputs": []
    }
  ]
}