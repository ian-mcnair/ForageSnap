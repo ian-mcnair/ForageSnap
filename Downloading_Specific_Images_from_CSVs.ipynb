{
  "nbformat": 4,
  "nbformat_minor": 0,
  "metadata": {
    "colab": {
      "name": "Downloading Specific Images from CSVs",
      "version": "0.3.2",
      "provenance": [],
      "private_outputs": true,
      "collapsed_sections": [],
      "toc_visible": true,
      "include_colab_link": true
    },
    "kernelspec": {
      "name": "python3",
      "display_name": "Python 3"
    },
    "accelerator": "GPU"
  },
  "cells": [
    {
      "cell_type": "markdown",
      "metadata": {
        "id": "view-in-github",
        "colab_type": "text"
      },
      "source": [
        "<a href=\"https://colab.research.google.com/github/ian-mcnair/ForageSnap/blob/master/Downloading_Specific_Images_from_CSVs.ipynb\" target=\"_parent\"><img src=\"https://colab.research.google.com/assets/colab-badge.svg\" alt=\"Open In Colab\"/></a>"
      ]
    },
    {
      "cell_type": "markdown",
      "metadata": {
        "colab_type": "text",
        "id": "hRTa3Ee15WsJ"
      },
      "source": [
        "# Import Statements"
      ]
    },
    {
      "cell_type": "code",
      "metadata": {
        "id": "stfZy2oBZHCv",
        "colab_type": "code",
        "colab": {}
      },
      "source": [
        "from google.colab import drive\n",
        "drive.mount('/content/drive', force_remount = True)\n",
        "from fastai.vision import *\n",
        "import os"
      ],
      "execution_count": 0,
      "outputs": []
    },
    {
      "cell_type": "markdown",
      "metadata": {
        "id": "4YUhhFGsTSXs",
        "colab_type": "text"
      },
      "source": [
        "# Load in Data with FastAI Fuctions\n",
        "\n",
        "###General Workflow\n",
        "iNaturalist Export Tool --> csv --> Configure filenames --> Images in gDrive with FastAI --> Images Verifed --> Trained on Model\n",
        "\n",
        "---\n",
        "\n",
        "All images were taken from the iNaturalist website using their export tool. These produce a csv which has a lot of data, but most importantly contains image URLs in the first column. FastAI only checks the first column, but its fine if there is a title row as it will be ignored. Using the FastAI functions below, the iamges are downloaded straight to a shared Google drive folder. From there, the images are briefly opened by another FastAI function to make sure they are ingestible. Lastly before the model training, images are checked for any other inconsistencies manually by the team. Just before training, images are taken from each class to be stored as the testing set. Keras will take the cleaned images and create a training and validation set."
      ]
    },
    {
      "cell_type": "markdown",
      "metadata": {
        "id": "OctRs3HR6AfL",
        "colab_type": "text"
      },
      "source": [
        "The next two code sections grab the file names which contain the urls"
      ]
    },
    {
      "cell_type": "code",
      "metadata": {
        "id": "UCmc-fm9N8r6",
        "colab_type": "code",
        "colab": {}
      },
      "source": [
        "# Grabbing filenames of urls - Harmless\n",
        "\n",
        "pathname0 = '/content/drive/My Drive/Project FORSCAN/Datasets/iNaturalist Data Urls/Specific Uploads'\n",
        "\n",
        "edible_filenames = []\n",
        "path0 = pathname0\n",
        "for f_name in os.listdir(path0):\n",
        "  if f_name.endswith('.csv'):\n",
        "    edible_filenames.append(f_name)\n",
        "    \n",
        "edible_filenames = sorted(edible_filenames)\n",
        "print(edible_filenames)"
      ],
      "execution_count": 0,
      "outputs": []
    },
    {
      "cell_type": "code",
      "metadata": {
        "id": "IDggKnivQBIQ",
        "colab_type": "code",
        "colab": {}
      },
      "source": [
        "#Grabbing filenames of urls - Poisonous\n",
        "\n",
        "pathname1 = '/content/drive/My Drive/Project FORSCAN/Datasets/iNaturalist Data Urls/Non-Edible'\n",
        "\n",
        "harmful_filenames = []\n",
        "path1 = pathname1\n",
        "for f_name in os.listdir(path1):\n",
        "  if f_name.endswith('.csv'):\n",
        "    harmful_filenames.append(f_name)\n",
        "    \n",
        "harmful_filenames = sorted(harmful_filenames)\n",
        "print(harmful_filenames)"
      ],
      "execution_count": 0,
      "outputs": []
    },
    {
      "cell_type": "markdown",
      "metadata": {
        "id": "6XEXbMtG6Gjj",
        "colab_type": "text"
      },
      "source": [
        "Creates a pattern that grabs the the file name without the .csv part.\n",
        "This name will become part of the final folder name which will store the url images."
      ]
    },
    {
      "cell_type": "code",
      "metadata": {
        "id": "JUSC1Bf6kRRj",
        "colab_type": "code",
        "colab": {}
      },
      "source": [
        "# Import Statements for taking the file names and creating\n",
        "import re\n",
        "pattern = r'.+?(?=.csv)'"
      ],
      "execution_count": 0,
      "outputs": []
    },
    {
      "cell_type": "code",
      "metadata": {
        "id": "YJ1mMCYnOkTz",
        "colab_type": "code",
        "colab": {}
      },
      "source": [
        "# Edible Folder names\n",
        "\n",
        "folder_names0 = []\n",
        "for file in edible_filenames:\n",
        "#   print(file)\n",
        "  temp = re.match(pattern, file).group()\n",
        "  #temp = temp.replace('_', ' ')\n",
        "  folder_names0.append('Edible: '+ temp)\n",
        "folder_names0 = sorted(folder_names0)\n",
        "\n",
        "print(folder_names0)\n"
      ],
      "execution_count": 0,
      "outputs": []
    },
    {
      "cell_type": "code",
      "metadata": {
        "id": "WE2OqXBwRjcG",
        "colab_type": "code",
        "colab": {}
      },
      "source": [
        "# Harmful Folder names\n",
        "folder_names1 = []\n",
        "for file in harmful_filenames:\n",
        "#   print(file)\n",
        "  temp = re.match(pattern, file).group()\n",
        "  #temp = temp.replace('_', ' ')\n",
        "  folder_names1.append('Harmful: ' + temp)\n",
        "folder_names1 = sorted(folder_names1)\n",
        "\n",
        "print(folder_names1)"
      ],
      "execution_count": 0,
      "outputs": []
    },
    {
      "cell_type": "markdown",
      "metadata": {
        "id": "YUAatIQYZdPX",
        "colab_type": "text"
      },
      "source": [
        "### Edible Classes"
      ]
    },
    {
      "cell_type": "code",
      "metadata": {
        "id": "wocL8FjfqNu3",
        "colab_type": "code",
        "colab": {}
      },
      "source": [
        "for i in range(len(folder_names0)):\n",
        "  file = path0 + '/' + edible_filenames[i]\n",
        "  folder = folder_names0[i]\n",
        "  \n",
        "  path = Path('/content/drive/My Drive/Project FORSCAN/Datasets/Images')\n",
        "  dest = path/folder\n",
        "  dest.mkdir(parents = True, exist_ok = True)\n",
        "  print(f'~~~~ Downloading {folder_names0[i]} ~~~~')\n",
        "  print(f'There are {len(folder_names0) - i} Left to Download') # <--- This might not work\n",
        "  download_images(path/file, \n",
        "                  dest, \n",
        "                  max_pics = 750, \n",
        "                  max_workers= 0)\n",
        "print('Download Complete')"
      ],
      "execution_count": 0,
      "outputs": []
    },
    {
      "cell_type": "markdown",
      "metadata": {
        "id": "joh_LzMjaCgc",
        "colab_type": "text"
      },
      "source": [
        "### Harmful Classes"
      ]
    },
    {
      "cell_type": "code",
      "metadata": {
        "id": "AGefOJO4ZxOu",
        "colab_type": "code",
        "colab": {}
      },
      "source": [
        "for i in range(len(folder_names1)):\n",
        "  file = path1 + '/' + harmful_filenames[i]\n",
        "  folder = folder_names1[i]\n",
        "  \n",
        "  path = Path('/content/drive/My Drive/Project FORSCAN/Datasets/Images')\n",
        "  dest = path/folder\n",
        "  dest.mkdir(parents = True, exist_ok = True)\n",
        "  print(f'~~~~ Downloading {folder_names1[i]} ~~~~')\n",
        "  print(f'There are {len(folder_names1) - i} Left to Download') # <--- This might not work\n",
        "  download_images(path/file, \n",
        "                  dest, \n",
        "                  max_pics = 750, \n",
        "                  max_workers= 0)\n",
        "print('Download Complete')"
      ],
      "execution_count": 0,
      "outputs": []
    },
    {
      "cell_type": "markdown",
      "metadata": {
        "id": "MtJc1mzfapuc",
        "colab_type": "text"
      },
      "source": [
        "## Making Sure File Paths and Images are Good"
      ]
    },
    {
      "cell_type": "code",
      "metadata": {
        "id": "xcSc9e7wcJPA",
        "colab_type": "code",
        "colab": {}
      },
      "source": [
        "path = Path('/content/drive/My Drive/Project FORSCAN/Datasets/Specific Image Check')"
      ],
      "execution_count": 0,
      "outputs": []
    },
    {
      "cell_type": "code",
      "metadata": {
        "id": "8Pfr6j8jas1y",
        "colab_type": "code",
        "colab": {}
      },
      "source": [
        "print(f'The number of items in this folder is: {len(path.ls())}') # This documents the path. You should see harmless and poisonous"
      ],
      "execution_count": 0,
      "outputs": []
    },
    {
      "cell_type": "code",
      "metadata": {
        "id": "WlFGYbXCawNg",
        "colab_type": "code",
        "colab": {}
      },
      "source": [
        "# Edible\n",
        "# Usually the below line isn't needed, but had to come back and check all images\n",
        "folder_names0 = os.listdir('/content/drive/My Drive/Project FORSCAN/Datasets/Specific Image Check')\n",
        "\n",
        "for folder in folder_names0:\n",
        "  print(path/folder)\n",
        "  verify_images(path/folder, \n",
        "                delete = True, \n",
        "                max_size = 750)"
      ],
      "execution_count": 0,
      "outputs": []
    },
    {
      "cell_type": "code",
      "metadata": {
        "id": "7JLm3RihWYD8",
        "colab_type": "code",
        "colab": {}
      },
      "source": [
        "# Harmful\n",
        "\n",
        "# This below one is used just to correct the test set images\n",
        "path = Path('/content/drive/My Drive/Project FORSCAN/Datasets/Testset')\n",
        "folder_names1 = os.listdir('/content/drive/My Drive/Project FORSCAN/Datasets/Testset')\n",
        "for folder in folder_names1:\n",
        "  print(path/folder)\n",
        "  verify_images(path/folder, \n",
        "                delete = True, \n",
        "                max_size = 750)"
      ],
      "execution_count": 0,
      "outputs": []
    }
  ]
}